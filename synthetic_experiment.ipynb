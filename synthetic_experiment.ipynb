{
 "cells": [
  {
   "cell_type": "markdown",
   "metadata": {},
   "source": [
    "## Fair Dummies: Synthetic Example\n",
    "\n",
    "This notebook implements a the fair dummies framework for learning predictive models that approximately satisfy the equalized odds notion of fairness.\n",
    "\n",
    "Paper: \"Achieving Equalized Odds by Resampling Sensitive Attributes,\" Y. Romano, S. Bates, and E. J. Candès, 2020\n",
    "\n",
    "### Proposed approach\n",
    "\n",
    "__Core idea__: fit a regression function, minimizing\n",
    "\n",
    "$$ \\text{loss = prediction error + distance to equalized odds}$$\n",
    "\n",
    "\n",
    "__Input__: $  \\{(X_i,A_i,Y_i)\\}_{i=1}^n \\sim P_{XAY}$ training data\n",
    "    \n",
    "\n",
    "__Step 1__: sample dummy protected attributes\n",
    "$$\n",
    "\\tilde{A}_i \\sim P_{A|Y}(A \\mid Y=y_{i}) \\quad \\forall \\ i=1,2,\\dots,n \\nonumber\n",
    "$$\n",
    "\n",
    "$A \\in \\{0,1\\}$? generate $\\tilde{A}$ using a biased coin-flip, with\n",
    "$$\n",
    "P\\{A=1|Y=y\\} = \\frac{P\\{y \\mid A=1\\}P\\{A=1\\}}{P\\{y \\mid A=1\\}P\\{A=1\\} + P\\{y \\mid A=0\\}P\\{A=0\\}}\n",
    "$$\n",
    "    \n",
    "__Step 2__: fit a regression function on $\\{(X_i, A_i, Y_i)\\}_{i=1}^n$\n",
    "\n",
    "$$\n",
    "        \\hat{f}(\\cdot) \\,= \\, \\underset{f \\in \\mathcal{F}}{\\mathrm{arg min}} \\, \\frac{1-\\lambda}{n} \\sum_{i=1}^n (Y_i - f(X_i))^2  + \\lambda \\mathcal{D}\\left( [\\hat{\\mathbf{Y}}, \\mathbf{A}, \\mathbf{Y}] , [\\hat{\\mathbf{Y}}, \\tilde{\\mathbf{A}}, \\mathbf{Y}] \\right) \\nonumber\n",
    "$$\n",
    "\n",
    "where\n",
    "    \n",
    "$$\n",
    "\\hat{\\mathbf{Y}} = \\left[f(X_{1}), f(X_{2}), \\dots, f(X_{n})\\right]^T \\ ; \\ \\mathbf{A} = \\left[A_{1}, A_{2}, \\dots, A_{n}\\right]^T \\ ; \\ \\tilde{\\mathbf{A}} = \\left[\\tilde{A}_{1}, \\tilde{A}_{2}, \\dots, \\tilde{A}_{n}\\right]^T \\ ; \\ \\mathbf{Y} = \\left[Y_{1}, Y_{2}, \\dots, Y_{n}\\right]^T\n",
    "$$\n",
    "\n",
    "and $\\mathcal{D}\\left( \\mathbf{Z}_1, \\mathbf{Z}_2 \\right)$ tests whether $P_{Z_1} = \\ P_{Z_2}$ given $\\mathbf{Z}_1, \\mathbf{Z}_2$,  here it implemented as a classifier two-sample test"
   ]
  },
  {
   "cell_type": "code",
   "execution_count": 1,
   "metadata": {},
   "outputs": [],
   "source": [
    "from sklearn.preprocessing import StandardScaler\n",
    "\n",
    "import matplotlib\n",
    "matplotlib.use('Agg')\n",
    "%matplotlib inline\n",
    "\n",
    "import matplotlib.pyplot as plt\n",
    "import numpy as np\n",
    "np.warnings.filterwarnings('ignore')\n",
    "import random\n",
    "\n",
    "import torch\n",
    "import torch.nn as nn\n",
    "import pandas as pd\n",
    "\n",
    "import os\n",
    "import sys\n",
    "\n",
    "\n",
    "sys.path.append(os.path.abspath(os.path.join(os.getcwd() + '/others/third_party/cqr')))\n",
    "base_path = os.getcwd() + '/data/'\n",
    "    \n",
    "from fair_dummies import fair_dummies_learning\n",
    "from fair_dummies import utility_functions\n",
    "\n",
    "seed = 123\n",
    "\n",
    "random.seed(seed)\n",
    "np.random.seed(seed)\n",
    "torch.manual_seed(seed)\n",
    "\n",
    "# maximal number of testpoints to plot\n",
    "max_show = 100\n",
    "\n",
    "# save figures?\n",
    "save_figures = False\n",
    "\n",
    "# display results\n",
    "if save_figures:\n",
    "    SMALL_SIZE = 26\n",
    "else:\n",
    "    SMALL_SIZE = 18\n",
    "\n",
    "MEDIUM_SIZE = SMALL_SIZE\n",
    "BIGGER_SIZE = SMALL_SIZE\n",
    "\n",
    "plt.rc('font', size=SMALL_SIZE)          # controls default text sizes\n",
    "plt.rc('axes', titlesize=SMALL_SIZE)     # fontsize of the axes title\n",
    "plt.rc('axes', labelsize=MEDIUM_SIZE)    # fontsize of the x and y labels\n",
    "plt.rc('xtick', labelsize=SMALL_SIZE)    # fontsize of the tick labels\n",
    "plt.rc('ytick', labelsize=SMALL_SIZE)    # fontsize of the tick labels\n",
    "plt.rc('legend', fontsize=SMALL_SIZE)    # legend fontsize\n",
    "plt.rc('figure', titlesize=BIGGER_SIZE)  # fontsize of the figure title\n",
    "plt.rc('text', usetex=True)"
   ]
  },
  {
   "cell_type": "code",
   "execution_count": 2,
   "metadata": {},
   "outputs": [],
   "source": [
    "def plot_func(x,\n",
    "              y,\n",
    "              y_u=None,\n",
    "              y_l=None,\n",
    "              pred=None,\n",
    "              point_color=\"b.\",\n",
    "              shade_color=\"\",\n",
    "              method_name=\"\",\n",
    "              title=\"\",\n",
    "              filename=None,\n",
    "              save_figures=False,\n",
    "              show_legend=True):\n",
    "    \n",
    "    \"\"\" Scatter plot of (x,y) points along with the constructed prediction interval \n",
    "    \n",
    "    Parameters\n",
    "    ----------\n",
    "    x : numpy array, corresponding to the feature of each of the n samples\n",
    "    y : numpy array, target response variable (length n)\n",
    "    pred : numpy array, the estimated prediction. It may be the conditional mean,\n",
    "           or low and high conditional quantiles.\n",
    "    shade_color : string, desired color of the prediciton interval\n",
    "    method_name : string, name of the method\n",
    "    title : string, the title of the figure\n",
    "    filename : sting, name of the file to save the figure\n",
    "    save_figures : boolean, save the figure (True) or not (False)\n",
    "    \n",
    "    \"\"\"\n",
    "    \n",
    "    inds = np.random.permutation(x.shape[0])[:max_show]\n",
    "    x_ = x[inds]\n",
    "    y_ = y[inds]\n",
    "    if y_u is not None:\n",
    "        y_u_ = y_u[inds]\n",
    "    if y_l is not None:\n",
    "        y_l_ = y_l[inds]\n",
    "    if pred is not None:\n",
    "        pred_ = pred[inds]\n",
    "\n",
    "    fig = plt.figure()\n",
    "    inds = np.argsort(np.squeeze(x_))\n",
    "    \n",
    "    if (y_u is not None) and (y_l is not None):\n",
    "        plt.fill_between(x_[inds].squeeze(),\n",
    "                         y_u_[inds],\n",
    "                         y_l_[inds],\n",
    "                         alpha=.2,\n",
    "                         color=shade_color,\n",
    "                         edgecolor=\"\",\n",
    "                         label = u'Prediction interval')\n",
    "    \n",
    "    if pred is not None:\n",
    "        if pred_.ndim == 2:\n",
    "            plt.plot(x_[inds,:], pred_[inds,0], 'k', lw=2, alpha=0.2,\n",
    "                     label=u'Predicted low and high quantiles')\n",
    "            plt.plot(x_[inds,:], pred_[inds,1], 'k', lw=2, alpha=0.2)\n",
    "        else:\n",
    "            plt.plot(x_[inds,:], pred_[inds], point_color, lw=2, alpha=0.8, markersize=15,\n",
    "                     fillstyle='none')\n",
    "    min_val = -35\n",
    "    max_val = 35 \n",
    "    \n",
    "    ident = [min_val, max_val]\n",
    "    plt.xlim(ident[0], ident[1])\n",
    "    plt.ylim(ident[0], ident[1])\n",
    "    \n",
    "    plt.plot(ident,ident, ls=\"--\", c=\".3\")\n",
    "    \n",
    "    plt.xlabel(r'$Y$')\n",
    "    plt.ylabel(r'$\\hat{Y}$')\n",
    "    \n",
    "    ax = plt.gca()\n",
    "    ax.set_aspect('equal', 'box')\n",
    "    \n",
    "    plt.title(title)\n",
    "\n",
    "\n",
    "    if save_figures and (filename is not None):\n",
    "        plt.savefig(filename, bbox_inches='tight', dpi=300)\n",
    "    \n",
    "    plt.show()\n",
    "    \n",
    "def plot_groups_pointwise(x_axis_0,x_axis_1,A,Y,Yhat,\n",
    "                          y_u=None,y_l=None,point_color=\"b.\",shade=\"\",\n",
    "                          filename_0=None,filename_1=None,save_figures=False):\n",
    "   \n",
    "    inds = A==0\n",
    "    \n",
    "    y_u0 = None\n",
    "    y_l0 = None\n",
    "    if (y_u is not None) and (y_l is not None):\n",
    "        y_u0=y_u[inds]\n",
    "        y_l0=y_l[inds]\n",
    "        \n",
    "    plot_func(x_axis_0.reshape(x_axis_0.shape[0],1),\n",
    "              Y[inds], y_u=y_u0, y_l=y_l0, pred=Yhat[inds],\n",
    "              point_color=point_color,shade_color=shade, method_name=\"\", title=r'$A=0$',\n",
    "              filename=filename_0, save_figures=save_figures,show_legend=True)\n",
    "\n",
    "    inds = A==1\n",
    "    \n",
    "    y_u1 = None\n",
    "    y_l1 = None\n",
    "    if (y_u is not None) and (y_l is not None):\n",
    "        y_u1=y_u[inds]\n",
    "        y_l1=y_l[inds]\n",
    "        \n",
    "    plot_func(x_axis_1.reshape(x_axis_1.shape[0],1),\n",
    "              Y[inds], y_u=y_u1, y_l=y_l1, pred=Yhat[inds],\n",
    "              point_color=point_color,shade_color=shade, method_name=\"\", title=r'$A=1$',\n",
    "              filename=filename_1, save_figures=save_figures,show_legend=False)"
   ]
  },
  {
   "cell_type": "markdown",
   "metadata": {},
   "source": [
    "## Generate data\n"
   ]
  },
  {
   "cell_type": "code",
   "execution_count": 3,
   "metadata": {},
   "outputs": [
    {
     "name": "stdout",
     "output_type": "stream",
     "text": [
      "(6000, 2)\n",
      "(6000,)\n"
     ]
    }
   ],
   "source": [
    "def init_seed(seed = 0):\n",
    "    random.seed(seed)\n",
    "    np.random.seed(seed)\n",
    "    torch.manual_seed(seed)\n",
    "\n",
    "def synthetic_example(n = 6000):\n",
    "        \n",
    "    p0 = 0.9\n",
    "    p1 = 1 - p0\n",
    "\n",
    "    sigX_small = 1\n",
    "    sigX_large = 3\n",
    "\n",
    "    A = np.random.binomial(1,p1,n).T\n",
    "    X = np.random.randn(n,2)\n",
    "    X[A==0,0] = X[A==0,0] * sigX_small\n",
    "    X[A==0,1] = X[A==0,1] * sigX_large\n",
    "    X[A==1,0] = X[A==1,0] * sigX_large\n",
    "    X[A==1,1] = X[A==1,1] * sigX_small\n",
    "\n",
    "    beta0 = [0,sigX_large]\n",
    "    beta1 = [sigX_large,0]\n",
    "\n",
    "    Y = np.random.randn(n)\n",
    "    Y[A==0] = Y[A==0] + np.dot(X[A==0],beta0)\n",
    "    Y[A==1] = Y[A==1] + np.dot(X[A==1],beta1)\n",
    "\n",
    "    x_axis_0 = Y[A==0]\n",
    "    x_axis_1 = Y[A==1]\n",
    "    \n",
    "    return X, A, Y, x_axis_0, x_axis_1, beta0, beta1\n",
    "\n",
    "init_seed(seed)\n",
    "X, A, Y, x_axis_0, x_axis_1, beta0, beta1 = synthetic_example(n = 6000)\n",
    "X_cal, A_cal, Y_cal, x_axis_0, x_axis_1, beta0, beta1 = synthetic_example(n = 2000)\n",
    "X_test, A_test, Y_test, x_axis_0_test, x_axis_1_test, beta0, beta1 = synthetic_example(n = 2000)\n",
    "\n",
    "# compute input dimensions\n",
    "n = X.shape[0]\n",
    "in_shape = X.shape[1]\n",
    "    \n",
    "print(X.shape)\n",
    "print(Y.shape)\n"
   ]
  },
  {
   "cell_type": "markdown",
   "metadata": {},
   "source": [
    "Estimate $P_{A|Y}$ using kernel density estimator, then compute $P\\{A=1|Y=y\\}$"
   ]
  },
  {
   "cell_type": "code",
   "execution_count": 4,
   "metadata": {},
   "outputs": [
    {
     "data": {
      "image/png": "[encoded data removed]",
      "text/plain": [
       "<Figure size 432x288 with 1 Axes>"
      ]
     },
     "metadata": {
      "needs_background": "light"
     },
     "output_type": "display_data"
    },
    {
     "data": {
      "image/png": "[encoded data removed]",
      "text/plain": [
       "<Figure size 432x288 with 1 Axes>"
      ]
     },
     "metadata": {
      "needs_background": "light"
     },
     "output_type": "display_data"
    }
   ],
   "source": [
    "from sklearn.neighbors import KernelDensity\n",
    "\n",
    "def compute_density(Z,A,show_graphs=False,Z_test=[]):\n",
    "\n",
    "    bandwidth = np.sqrt(np.median(np.abs(Z)))\n",
    "\n",
    "    kde_0 = KernelDensity(kernel='linear', bandwidth=bandwidth).fit(Z[A==0][:, np.newaxis])\n",
    "    kde_1 = KernelDensity(kernel='linear', bandwidth=bandwidth).fit(Z[A==1][:, np.newaxis])\n",
    "    \n",
    "    if show_graphs:\n",
    "        plt.clf()\n",
    "        plt.hist(Z[A==0], fc='#AAAAFF', density=True)\n",
    "        plt.show()\n",
    "\n",
    "        X_plot = np.linspace(min(Z[A==0])-1, max(Z[A==0])+1, 1000)[:, np.newaxis]\n",
    "        log_dens = kde_0.score_samples(X_plot)\n",
    "\n",
    "        plt.clf()\n",
    "        plt.fill(X_plot[:, 0], np.exp(log_dens), fc='#AAAAFF')\n",
    "        plt.show()\n",
    "\n",
    "    log_dens_0 = np.exp(np.squeeze(kde_0.score_samples(Z[:, np.newaxis])))\n",
    "    log_dens_1 = np.exp(np.squeeze(kde_1.score_samples(Z[:, np.newaxis])))\n",
    "    p_0 = np.sum(A==0) / A.shape[0]\n",
    "    p_1 = 1 - p_0\n",
    "\n",
    "    # p(A=1|y) = p(y|A=1)p(A=1) / (p(y|A=1)p(A=1) + p(y|A=0)p(A=0))\n",
    "    p_success = (log_dens_1*p_1) / (log_dens_1*p_1 + log_dens_0*p_0)\n",
    "\n",
    "    p_success_test = []\n",
    "    if len(Z_test) > 0:\n",
    "        log_dens_0_test = np.exp(np.squeeze(kde_0.score_samples(Y_test[:, np.newaxis])))\n",
    "        log_dens_1_test = np.exp(np.squeeze(kde_1.score_samples(Y_test[:, np.newaxis])))\n",
    "        p_success_test = (log_dens_1_test*p_1) / (log_dens_1_test*p_1 + log_dens_0_test*p_0)\n",
    "    \n",
    "    return p_success, p_success_test\n",
    "\n",
    "p_success, p_success_test = compute_density(Y,A,True,Y_test)"
   ]
  },
  {
   "cell_type": "markdown",
   "metadata": {},
   "source": [
    "Implementation of a fairness-unaware baseline algorithm"
   ]
  },
  {
   "cell_type": "code",
   "execution_count": 5,
   "metadata": {},
   "outputs": [
    {
     "name": "stdout",
     "output_type": "stream",
     "text": [
      "Baseline (All): Test Error = 2.4019277050431986\n",
      "Baseline (A=0): Test Error = 1.7947208535163621\n",
      "Baseline (A=1): Test Error = 5.481289646272755\n"
     ]
    }
   ],
   "source": [
    "bhat, res, rank, s = np.linalg.lstsq(X, Y)\n",
    "\n",
    "Yhat_out_cal = np.dot(X_cal,bhat)\n",
    "Yhat_out_test = np.dot(X_test,bhat)\n",
    "\n",
    "print(\"Baseline (All): Test Error = \" + str(np.sqrt(np.mean((Yhat_out_test - Y_test)**2))))\n",
    "print(\"Baseline (A=0): Test Error = \" + str(np.sqrt(np.mean((Yhat_out_test[A_test==0] - Y_test[A_test==0])**2))))\n",
    "print(\"Baseline (A=1): Test Error = \" + str(np.sqrt(np.mean((Yhat_out_test[A_test==1] - Y_test[A_test==1])**2))))"
   ]
  },
  {
   "cell_type": "code",
   "execution_count": 6,
   "metadata": {},
   "outputs": [
    {
     "data": {
      "image/png": "[encoded data removed]",
      "text/plain": [
       "<Figure size 432x288 with 1 Axes>"
      ]
     },
     "metadata": {
      "needs_background": "light"
     },
     "output_type": "display_data"
    },
    {
     "data": {
      "image/png": "[encoded data removed]",
      "text/plain": [
       "<Figure size 432x288 with 1 Axes>"
      ]
     },
     "metadata": {
      "needs_background": "light"
     },
     "output_type": "display_data"
    },
    {
     "name": "stdout",
     "output_type": "stream",
     "text": [
      "Init Loss = 76.43615\n",
      "Final Loss = 3.7835722\n",
      "Fair dummies test (regression score), p-value: 0.000999000999000999\n"
     ]
    },
    {
     "data": {
      "image/png": "[encoded data removed]",
      "text/plain": [
       "<Figure size 432x288 with 1 Axes>"
      ]
     },
     "metadata": {
      "needs_background": "light"
     },
     "output_type": "display_data"
    }
   ],
   "source": [
    "plot_groups_pointwise(x_axis_0_test,\n",
    "                      x_axis_1_test,\n",
    "                      A_test,\n",
    "                      Y_test,\n",
    "                      Yhat_out_test,\n",
    "                      y_u=None,\n",
    "                      y_l=None,\n",
    "                      point_color='r.',\n",
    "                      shade=None,\n",
    "                      filename_0=\"synth_baseline_0.png\",\n",
    "                      filename_1=\"synth_baseline_1.png\",\n",
    "                      save_figures=save_figures)\n",
    "\n",
    "p_val_base = utility_functions.fair_dummies_test_regression(Yhat_out_cal,\n",
    "                                            A_cal,\n",
    "                                            Y_cal,\n",
    "                                            Yhat_out_test,\n",
    "                                            A_test,\n",
    "                                            Y_test,\n",
    "                                            num_reps = 1,\n",
    "                                            num_p_val_rep=1000,\n",
    "                                            reg_func_name=\"Net\",\n",
    "                                            lr = 0.01,\n",
    "                                            return_vec=True)\n",
    "\n",
    "\n",
    "plt.clf()\n",
    "x, bins, p=plt.hist(x=p_val_base, bins=30, color='salmon', alpha=0.7, range=(0, 1), density=True, ec='red', align='left', label=u'Baseline')\n",
    "plt.grid(axis='y', alpha=0.75)\n",
    "plt.xlabel('Value')\n",
    "plt.ylabel('Frequency')\n",
    "plt.title('Fair Dummies Test')\n",
    "for item in p:\n",
    "    item.set_height(item.get_height()/sum(x))\n",
    "plt.ylim(0, 1)\n",
    "\n",
    "plt.show()"
   ]
  },
  {
   "cell_type": "code",
   "execution_count": 7,
   "metadata": {},
   "outputs": [],
   "source": [
    "# step size\n",
    "lr = 0.01\n",
    "\n",
    "# inner epochs to fit adversary\n",
    "dis_steps = 40\n",
    "\n",
    "# inner epochs to fit loss\n",
    "loss_steps = 40\n",
    "\n",
    "batch_size = 6000\n",
    "\n",
    "# utility loss\n",
    "cost_pred = torch.nn.MSELoss()\n",
    "in_shape = X.shape[1]\n",
    "out_shape = 1\n",
    "\n",
    "model_type = \"linear_model\"\n",
    "\n",
    "# equalized odds penalty\n",
    "mu = 0.99\n",
    "second_moment_scaling = 0\n",
    "\n",
    "# total number of epochs\n",
    "epochs = 300"
   ]
  },
  {
   "cell_type": "code",
   "execution_count": 8,
   "metadata": {},
   "outputs": [],
   "source": [
    "fair_reg = fair_dummies_learning.EquiRegLearner(lr=lr,\n",
    "                                                pretrain_pred_epochs=0,\n",
    "                                                pretrain_dis_epochs=0,\n",
    "                                                epochs=epochs,\n",
    "                                                loss_steps=loss_steps,\n",
    "                                                dis_steps=dis_steps,\n",
    "                                                cost_pred=cost_pred,\n",
    "                                                in_shape=in_shape,\n",
    "                                                batch_size=batch_size,\n",
    "                                                model_type=model_type,\n",
    "                                                lambda_vec=mu,\n",
    "                                                second_moment_scaling=second_moment_scaling,\n",
    "                                                out_shape=out_shape)\n",
    "\n",
    "init_seed(seed)\n",
    "\n",
    "input_data_train = np.concatenate((A[:,np.newaxis],X),1)\n",
    "fair_reg.fit(input_data_train, Y)\n",
    "\n",
    "input_data_cal = np.concatenate((A_cal[:,np.newaxis],X_cal),1)\n",
    "Yhat_out_cal = fair_reg.predict(input_data_cal)\n",
    "\n",
    "input_data_test = np.concatenate((A_test[:,np.newaxis],X_test),1)\n",
    "Yhat_out_test = Yhat_test = fair_reg.predict(input_data_test)"
   ]
  },
  {
   "cell_type": "code",
   "execution_count": 9,
   "metadata": {},
   "outputs": [
    {
     "name": "stdout",
     "output_type": "stream",
     "text": [
      "Fair Dummies (All): Test Error = 3.400726861346923\n",
      "Fair Dummies (A=0): Test Error = 3.4092725906435017\n",
      "Fair Dummies (A=1): Test Error = 3.318214246942538\n"
     ]
    }
   ],
   "source": [
    "print(\"Fair Dummies (All): Test Error = \" + str(np.sqrt(np.mean((Yhat_out_test - Y_test)**2))))\n",
    "print(\"Fair Dummies (A=0): Test Error = \" + str(np.sqrt(np.mean((Yhat_out_test[A_test==0] - Y_test[A_test==0])**2))))\n",
    "print(\"Fair Dummies (A=1): Test Error = \" + str(np.sqrt(np.mean((Yhat_out_test[A_test==1] - Y_test[A_test==1])**2))))"
   ]
  },
  {
   "cell_type": "code",
   "execution_count": 10,
   "metadata": {},
   "outputs": [
    {
     "data": {
      "image/png": "[encoded data removed]",
      "text/plain": [
       "<Figure size 432x288 with 1 Axes>"
      ]
     },
     "metadata": {
      "needs_background": "light"
     },
     "output_type": "display_data"
    },
    {
     "data": {
      "image/png": "[encoded data removed]",
      "text/plain": [
       "<Figure size 432x288 with 1 Axes>"
      ]
     },
     "metadata": {
      "needs_background": "light"
     },
     "output_type": "display_data"
    },
    {
     "name": "stdout",
     "output_type": "stream",
     "text": [
      "Init Loss = 50.116447\n",
      "Final Loss = 5.8048\n",
      "Fair dummies test (regression score), p-value: 0.47652347652347654\n"
     ]
    },
    {
     "data": {
      "image/png": "[encoded data removed]",
      "text/plain": [
       "<Figure size 432x288 with 1 Axes>"
      ]
     },
     "metadata": {
      "needs_background": "light"
     },
     "output_type": "display_data"
    }
   ],
   "source": [
    "plot_groups_pointwise(x_axis_0_test,\n",
    "                      x_axis_1_test,\n",
    "                      A_test,\n",
    "                      Y_test,\n",
    "                      Yhat_out_test,\n",
    "                      y_u=None,\n",
    "                      y_l=None,\n",
    "                      point_color='b.',\n",
    "                      shade=None,\n",
    "                      filename_0=\"synth_equi_0.png\",\n",
    "                      filename_1=\"synth_equi_1.png\",\n",
    "                      save_figures=save_figures)\n",
    "\n",
    "\n",
    "p_val_equi = utility_functions.fair_dummies_test_regression(Yhat_out_cal,\n",
    "                                                            A_cal,\n",
    "                                                            Y_cal,\n",
    "                                                            Yhat_out_test,\n",
    "                                                            A_test,\n",
    "                                                            Y_test,\n",
    "                                                            num_reps = 1,\n",
    "                                                            num_p_val_rep=1000,\n",
    "                                                            reg_func_name=\"Net\",\n",
    "                                                            lr = 0.01,\n",
    "                                                            return_vec=True)\n",
    "\n",
    "\n",
    "plt.clf()\n",
    "x_equi, bins_equi, p_equi=plt.hist(x=p_val_equi, bins=30, color='royalblue', alpha=0.7, range=(0, 1), density=True, ec='blue', align='left', label=u'Equitable model')\n",
    "x_base, bins_base, p_base=plt.hist(x=p_val_base, bins=30, color='salmon', alpha=0.7, range=(0, 1), density=True, ec='red', align='left', label=u'Baseline model')\n",
    "\n",
    "plt.grid(axis='y', alpha=0.75)\n",
    "plt.xlabel('p-value')\n",
    "plt.ylabel('Frequency')\n",
    "plt.title('Fair Dummies Test')\n",
    "for item in p_equi:\n",
    "    item.set_height(item.get_height()/sum(x_equi))\n",
    "for item in p_base:\n",
    "    item.set_height(item.get_height()/sum(x_base))\n",
    "\n",
    "plt.ylim(0, 1)\n",
    "plt.legend(bbox_to_anchor=(1.05, 1.0), loc='upper left') \n",
    "plt.show()\n"
   ]
  },
  {
   "cell_type": "code",
   "execution_count": null,
   "metadata": {},
   "outputs": [],
   "source": []
  },
  {
   "cell_type": "code",
   "execution_count": null,
   "metadata": {},
   "outputs": [],
   "source": []
  }
 ],
 "metadata": {
  "kernelspec": {
   "display_name": "Python 3",
   "language": "python",
   "name": "python3"
  },
  "language_info": {
   "codemirror_mode": {
    "name": "ipython",
    "version": 3
   },
   "file_extension": ".py",
   "mimetype": "text/x-python",
   "name": "python",
   "nbconvert_exporter": "python",
   "pygments_lexer": "ipython3",
   "version": "3.7.4"
  }
 },
 "nbformat": 4,
 "nbformat_minor": 2
}
